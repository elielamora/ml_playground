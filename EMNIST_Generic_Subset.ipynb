{
  "nbformat": 4,
  "nbformat_minor": 0,
  "metadata": {
    "colab": {
      "name": "EMNIST_Generic_Subset.ipynb",
      "provenance": [],
      "collapsed_sections": []
    },
    "kernelspec": {
      "name": "python3",
      "display_name": "Python 3"
    },
    "accelerator": "GPU"
  },
  "cells": [
    {
      "cell_type": "code",
      "metadata": {
        "id": "o48I7wEsQJsc",
        "colab": {
          "base_uri": "https://localhost:8080/",
          "height": 34
        },
        "outputId": "b99c4ab9-d41a-4cd2-f2fa-be5d1a5cfefa"
      },
      "source": [
        "%tensorflow_version 2.x\n",
        "import tensorflow as tf\n",
        "import tensorflow_datasets as tfds\n",
        "import matplotlib.pyplot as plt\n",
        "import numpy as np"
      ],
      "execution_count": null,
      "outputs": [
        {
          "output_type": "stream",
          "text": [
            "TensorFlow 2.x selected.\n"
          ],
          "name": "stdout"
        }
      ]
    },
    {
      "cell_type": "code",
      "metadata": {
        "id": "cIl7XZxpteJ2",
        "colab": {
          "base_uri": "https://localhost:8080/",
          "height": 34
        },
        "outputId": "f9fd89bc-6086-41b1-fd1e-a37ded0d0246"
      },
      "source": [
        "class_map = { \n",
        "  10: 1, #A\n",
        "  11: 2, #B\n",
        "  12: 3, #C\n",
        "  33: 4, #X\n",
        "  23: 5, #N\n",
        "  25: 0, #P\n",
        "}\n",
        "print(class_map)"
      ],
      "execution_count": null,
      "outputs": [
        {
          "output_type": "stream",
          "text": [
            "{10: 1, 11: 2, 12: 3, 33: 4, 23: 5, 25: 0}\n"
          ],
          "name": "stdout"
        }
      ]
    },
    {
      "cell_type": "code",
      "metadata": {
        "id": "76ZSgFMhuARF",
        "colab": {
          "base_uri": "https://localhost:8080/",
          "height": 34
        },
        "outputId": "c31ecf1e-f2d0-45f5-fb5d-0fc1eb53c8e2"
      },
      "source": [
        "reverse_class_map = {v: k for k, v in class_map.items()}\n",
        "print(reverse_class_map)"
      ],
      "execution_count": null,
      "outputs": [
        {
          "output_type": "stream",
          "text": [
            "{1: 10, 2: 11, 3: 12, 4: 33, 5: 23, 0: 25}\n"
          ],
          "name": "stdout"
        }
      ]
    },
    {
      "cell_type": "code",
      "metadata": {
        "id": "icJvH33U7mED"
      },
      "source": [
        "def tf_map_classes(label, class_map, otherwise_value=0):\n",
        "  cases = []\n",
        "  for original, new_class in class_map.items():\n",
        "    case = (\n",
        "      tf.math.equal(\n",
        "          label,\n",
        "          tf.constant(original, dtype=tf.int64)),\n",
        "      lambda : \n",
        "        tf.constant(new_class, dtype=tf.int64)\n",
        "    )\n",
        "    cases.append(case)\n",
        "  return tf.case(\n",
        "    cases,\n",
        "    default=lambda: tf.constant(otherwise_value, tf.int64),\n",
        "    exclusive=True)"
      ],
      "execution_count": null,
      "outputs": []
    },
    {
      "cell_type": "code",
      "metadata": {
        "id": "rEq7GJNCfE_y"
      },
      "source": [
        "def prepare_emnist(example):\n",
        "  prepared_batch = example['image']\n",
        "  prepared_batch = tf.dtypes.cast(prepared_batch, tf.float32)\n",
        "  prepared_batch = prepared_batch / 255\n",
        "\n",
        "  prepared_label = tf_map_classes(example['label'], class_map)\n",
        "  prepared_label = tf.one_hot(prepared_label, len(class_map))\n",
        "  return prepared_batch, prepared_label"
      ],
      "execution_count": null,
      "outputs": []
    },
    {
      "cell_type": "code",
      "metadata": {
        "id": "7YBCGB7HFd_a"
      },
      "source": [
        "def filter_label_eq_num(num): \n",
        "  return lambda x : tf.math.equal(\n",
        "      x['label'],\n",
        "      tf.constant(num, dtype=tf.int64))"
      ],
      "execution_count": null,
      "outputs": []
    },
    {
      "cell_type": "code",
      "metadata": {
        "id": "Setmm03C-714",
        "colab": {
          "base_uri": "https://localhost:8080/",
          "height": 51
        },
        "outputId": "402b4dd0-274c-4034-ea42-8342d24ef70b"
      },
      "source": [
        "train = tfds.load(name=\"emnist/bymerge\", split=tfds.Split.TRAIN).map(map_func=prepare_emnist)"
      ],
      "execution_count": null,
      "outputs": [
        {
          "output_type": "stream",
          "text": [
            "<class 'dict'>\n",
            "{10: 1, 11: 2, 12: 3, 33: 4, 23: 5, 25: 0}\n"
          ],
          "name": "stdout"
        }
      ]
    },
    {
      "cell_type": "code",
      "metadata": {
        "id": "3kz4eKIt_ECn",
        "colab": {
          "base_uri": "https://localhost:8080/",
          "height": 34
        },
        "outputId": "1b66bfb7-abb0-4574-8710-afe63fe369d1"
      },
      "source": [
        "test_map_func = tfds.as_numpy(train.batch(64)).__next__()\n",
        "print(test_map_func[0].shape)"
      ],
      "execution_count": null,
      "outputs": [
        {
          "output_type": "stream",
          "text": [
            "(64, 28, 28, 1)\n"
          ],
          "name": "stdout"
        }
      ]
    },
    {
      "cell_type": "code",
      "metadata": {
        "id": "z_83rSG1sQ2O"
      },
      "source": [
        "train = tfds.load(name=\"emnist/bymerge\", split=tfds.Split.TRAIN)\n",
        "test = tfds.load(name=\"emnist/bymerge\", split=tfds.Split.TEST)"
      ],
      "execution_count": null,
      "outputs": []
    },
    {
      "cell_type": "code",
      "metadata": {
        "id": "LOGZT3YTunqP"
      },
      "source": [
        "num_per_class = 3000\n",
        "\n",
        "a_dataset = train.filter(filter_label_eq_num(10)).take(num_per_class)\n",
        "b_dataset = train.filter(filter_label_eq_num(11)).take(num_per_class)\n",
        "c_dataset = train.filter(filter_label_eq_num(12)).take(num_per_class)\n",
        "x_dataset = train.filter(filter_label_eq_num(33)).take(num_per_class)\n",
        "n_dataset = train.filter(filter_label_eq_num(23)).take(num_per_class)\n",
        "p_dataset = train.filter(filter_label_eq_num(25)).take(num_per_class)\n",
        "#rest_dataset = train.filter(rest_filter()).shuffle(30000).take(num_per_class)\n",
        "\n",
        "\n",
        "train = a_dataset\n",
        "train = train.concatenate(b_dataset)\n",
        "train = train.concatenate(c_dataset)\n",
        "train = train.concatenate(x_dataset)\n",
        "train = train.concatenate(n_dataset)\n",
        "train = train.concatenate(p_dataset)\n",
        "#train = train.concatenate(rest_dataset)\n",
        "#train = train.shuffle(num_per_class * 7)\n",
        "train = train.prefetch(tf.data.experimental.AUTOTUNE)"
      ],
      "execution_count": null,
      "outputs": []
    },
    {
      "cell_type": "code",
      "metadata": {
        "id": "WktR4aBliMiW"
      },
      "source": [
        "val_num_per_class = 1000\n",
        "  \n",
        "def rest_filter():\n",
        "  return lambda x : tf.math.equal(\n",
        "      tf.case([\n",
        "        (filter_eq_num(10)(x), tf_const(1)),\n",
        "        (filter_eq_num(11)(x), tf_const(2)),\n",
        "        (filter_eq_num(12)(x), tf_const(3)),\n",
        "        (filter_eq_num(33)(x), tf_const(4)),\n",
        "        (filter_eq_num(23)(x), tf_const(5)),\n",
        "        (filter_eq_num(25)(x), tf_const(0)),\n",
        "      ],\n",
        "      default=lambda: tf.constant(0, tf.int64),\n",
        "      exclusive=True),\n",
        "      tf.constant(0, dtype=tf.int64)\n",
        "    )\n",
        "\n",
        "val_a_dataset = test.filter(filter_eq_num(10)).take(num_per_class)\n",
        "val_b_dataset = test.filter(filter_eq_num(11)).take(num_per_class)\n",
        "val_c_dataset = test.filter(filter_eq_num(12)).take(num_per_class)\n",
        "val_x_dataset = test.filter(filter_eq_num(33)).take(num_per_class)\n",
        "val_n_dataset = test.filter(filter_eq_num(23)).take(num_per_class)\n",
        "val_p_dataset = test.filter(filter_eq_num(25)).take(num_per_class)\n",
        "#val_rest_dataset = test.filter(rest_filter()).shuffle(30000).take(num_per_class)\n",
        "\n",
        "\n",
        "val = val_a_dataset\n",
        "val = val.concatenate(val_b_dataset)\n",
        "val = val.concatenate(val_c_dataset)\n",
        "val = val.concatenate(val_x_dataset)\n",
        "val = val.concatenate(val_n_dataset)\n",
        "val = val.concatenate(val_p_dataset)\n",
        "#val = val.concatenate(val_rest_dataset)\n",
        "#val = val.shuffle(val_num_per_class * 7)\n",
        "val = val.prefetch(tf.data.experimental.AUTOTUNE)"
      ],
      "execution_count": null,
      "outputs": []
    },
    {
      "cell_type": "code",
      "metadata": {
        "id": "jQwmFCMI2_9W"
      },
      "source": [
        "by_merge_index_to_letter = {\n",
        "    0: \"0\",\n",
        "    1: \"1\",\n",
        "    2: \"2\",\n",
        "    3: \"3\",\n",
        "    4: \"4\",\n",
        "    5: \"5\",\n",
        "    6: \"6\",\n",
        "    7: \"7\",\n",
        "    8: \"8\",\n",
        "    9: \"9\",\n",
        "    10: \"A\",\n",
        "    11: \"B\",\n",
        "    12: \"C\",\n",
        "    13: \"D\",\n",
        "    14: \"E\",\n",
        "    15: \"F\",\n",
        "    16: \"G\",\n",
        "    17: \"H\",\n",
        "    18: \"I\",\n",
        "    19: \"J\",\n",
        "    20: \"K\",\n",
        "    21: \"L\",\n",
        "    22: \"M\",\n",
        "    23: \"N\",\n",
        "    24: \"O\",\n",
        "    25: \"P\",\n",
        "    28: \"S\",\n",
        "    30: \"U\",\n",
        "    31: \"R\",\n",
        "    32: \"W\",\n",
        "    33: \"X\",\n",
        "    34: \"Y\",\n",
        "    35: \"Z\",\n",
        "    36: \"a\",\n",
        "    38: \"d\",\n",
        "    39: \"e\",\n",
        "    42: \"h\",\n",
        "    45: \"r\",\n",
        "    46: \"t\",\n",
        "}"
      ],
      "execution_count": null,
      "outputs": []
    },
    {
      "cell_type": "code",
      "metadata": {
        "id": "8tpsyyKO1OGQ"
      },
      "source": [
        "train_np = tfds.as_numpy(train.map(map_func=prepare_emnist).batch(num_per_class * num_classes)).__next__()"
      ],
      "execution_count": null,
      "outputs": []
    },
    {
      "cell_type": "code",
      "metadata": {
        "id": "Y8uloYEm3zfo",
        "colab": {
          "base_uri": "https://localhost:8080/",
          "height": 34
        },
        "outputId": "d7498fba-28bd-4fbf-812d-4724a367d1e6"
      },
      "source": [
        "print(train_np[0].shape)"
      ],
      "execution_count": null,
      "outputs": [
        {
          "output_type": "stream",
          "text": [
            "(18000, 28, 28, 1)\n"
          ],
          "name": "stdout"
        }
      ]
    },
    {
      "cell_type": "code",
      "metadata": {
        "id": "gzGbQQLe2a10"
      },
      "source": [
        "val_np = tfds.as_numpy(val.map(map_func=prepare_emnist).batch(val_num_per_class * num_classes)).__next__()"
      ],
      "execution_count": null,
      "outputs": []
    },
    {
      "cell_type": "code",
      "metadata": {
        "id": "KkDaJCjD34bB",
        "colab": {
          "base_uri": "https://localhost:8080/",
          "height": 34
        },
        "outputId": "b891dbee-64e3-4d8c-b2e6-39752c57f1e5"
      },
      "source": [
        "print(val_np[0].shape)"
      ],
      "execution_count": null,
      "outputs": [
        {
          "output_type": "stream",
          "text": [
            "(6000, 28, 28, 1)\n"
          ],
          "name": "stdout"
        }
      ]
    },
    {
      "cell_type": "code",
      "metadata": {
        "id": "V3IzS0q5RBaY",
        "colab": {
          "base_uri": "https://localhost:8080/",
          "height": 1000
        },
        "outputId": "6e3326b1-7cad-4428-fbbf-33335680fed9"
      },
      "source": [
        "first_batch = val_np\n",
        "batch = first_batch[0]\n",
        "labels = first_batch[1]\n",
        "print(batch.shape)\n",
        "\n",
        "fig=plt.figure(figsize=(28, 28))\n",
        "columns = 3\n",
        "rows = 3\n",
        "for i in range(1, columns*rows + 1):\n",
        "  img = batch[i].reshape(28,28).transpose()\n",
        "  label = labels[i]\n",
        "  ax = fig.add_subplot(rows, columns, i)\n",
        "  title_text = np.argmax(label)\n",
        "  title_text = by_merge_index_to_letter.get(\n",
        "      reverse_conversions.get(title_text.item(), -1),\n",
        "      \"Unlabelled \" + str(title_text.item()))\n",
        "  ax.title.set_text(title_text)\n",
        "  plt.imshow(img)\n",
        "plt.show()"
      ],
      "execution_count": null,
      "outputs": [
        {
          "output_type": "stream",
          "text": [
            "(6000, 28, 28, 1)\n"
          ],
          "name": "stdout"
        },
        {
          "output_type": "display_data",
          "data": {
            "image/png": "[encoded data removed]",
            "text/plain": [
              "<Figure size 2016x2016 with 9 Axes>"
            ]
          },
          "metadata": {
            "tags": []
          }
        }
      ]
    },
    {
      "cell_type": "code",
      "metadata": {
        "id": "LnJ27_9hcL7a",
        "colab": {
          "base_uri": "https://localhost:8080/",
          "height": 544
        },
        "outputId": "8b2a5c44-5762-4724-8ebe-c2ce1b80f76f"
      },
      "source": [
        "model = tf.keras.models.Sequential()\n",
        "\n",
        "model.add(tf.keras.layers.Input((28,28,1)))\n",
        "\n",
        "model.add(tf.keras.layers.Conv2D(32, (3, 3), use_bias=False))\n",
        "model.add(tf.keras.layers.BatchNormalization())\n",
        "model.add(tf.keras.layers.LeakyReLU(alpha=0.1))\n",
        "model.add(tf.keras.layers.MaxPooling2D((2,2)))\n",
        "\n",
        "model.add(tf.keras.layers.Conv2D(64, (3, 3), use_bias=False,))\n",
        "model.add(tf.keras.layers.BatchNormalization())\n",
        "model.add(tf.keras.layers.LeakyReLU(alpha=0.1))\n",
        "model.add(tf.keras.layers.MaxPooling2D((2,2)))\n",
        "\n",
        "model.add(tf.keras.layers.Conv2D(64, (3, 3), use_bias=False))\n",
        "model.add(tf.keras.layers.BatchNormalization())\n",
        "model.add(tf.keras.layers.LeakyReLU(alpha=0.1))\n",
        "\n",
        "print(model.summary())\n"
      ],
      "execution_count": null,
      "outputs": [
        {
          "output_type": "stream",
          "text": [
            "Model: \"sequential_2\"\n",
            "_________________________________________________________________\n",
            "Layer (type)                 Output Shape              Param #   \n",
            "=================================================================\n",
            "conv2d_6 (Conv2D)            (None, 26, 26, 32)        288       \n",
            "_________________________________________________________________\n",
            "batch_normalization_8 (Batch (None, 26, 26, 32)        128       \n",
            "_________________________________________________________________\n",
            "leaky_re_lu_8 (LeakyReLU)    (None, 26, 26, 32)        0         \n",
            "_________________________________________________________________\n",
            "max_pooling2d_4 (MaxPooling2 (None, 13, 13, 32)        0         \n",
            "_________________________________________________________________\n",
            "conv2d_7 (Conv2D)            (None, 11, 11, 64)        18432     \n",
            "_________________________________________________________________\n",
            "batch_normalization_9 (Batch (None, 11, 11, 64)        256       \n",
            "_________________________________________________________________\n",
            "leaky_re_lu_9 (LeakyReLU)    (None, 11, 11, 64)        0         \n",
            "_________________________________________________________________\n",
            "max_pooling2d_5 (MaxPooling2 (None, 5, 5, 64)          0         \n",
            "_________________________________________________________________\n",
            "conv2d_8 (Conv2D)            (None, 3, 3, 64)          36864     \n",
            "_________________________________________________________________\n",
            "batch_normalization_10 (Batc (None, 3, 3, 64)          256       \n",
            "_________________________________________________________________\n",
            "leaky_re_lu_10 (LeakyReLU)   (None, 3, 3, 64)          0         \n",
            "=================================================================\n",
            "Total params: 56,224\n",
            "Trainable params: 55,904\n",
            "Non-trainable params: 320\n",
            "_________________________________________________________________\n",
            "None\n"
          ],
          "name": "stdout"
        }
      ]
    },
    {
      "cell_type": "code",
      "metadata": {
        "id": "GWWzrY0AdkJr",
        "colab": {
          "base_uri": "https://localhost:8080/",
          "height": 714
        },
        "outputId": "d8b3b45f-e7cd-415f-a383-79f750ec3de2"
      },
      "source": [
        "model.add(tf.keras.layers.Flatten())\n",
        "model.add(tf.keras.layers.Dense(64, use_bias=False))\n",
        "model.add(tf.keras.layers.BatchNormalization())\n",
        "model.add(tf.keras.layers.LeakyReLU(alpha=0.1))\n",
        "model.add(tf.keras.layers.Dense(num_classes, activation='softmax'))\n",
        "\n",
        "print(model.summary())"
      ],
      "execution_count": null,
      "outputs": [
        {
          "output_type": "stream",
          "text": [
            "Model: \"sequential_2\"\n",
            "_________________________________________________________________\n",
            "Layer (type)                 Output Shape              Param #   \n",
            "=================================================================\n",
            "conv2d_6 (Conv2D)            (None, 26, 26, 32)        288       \n",
            "_________________________________________________________________\n",
            "batch_normalization_8 (Batch (None, 26, 26, 32)        128       \n",
            "_________________________________________________________________\n",
            "leaky_re_lu_8 (LeakyReLU)    (None, 26, 26, 32)        0         \n",
            "_________________________________________________________________\n",
            "max_pooling2d_4 (MaxPooling2 (None, 13, 13, 32)        0         \n",
            "_________________________________________________________________\n",
            "conv2d_7 (Conv2D)            (None, 11, 11, 64)        18432     \n",
            "_________________________________________________________________\n",
            "batch_normalization_9 (Batch (None, 11, 11, 64)        256       \n",
            "_________________________________________________________________\n",
            "leaky_re_lu_9 (LeakyReLU)    (None, 11, 11, 64)        0         \n",
            "_________________________________________________________________\n",
            "max_pooling2d_5 (MaxPooling2 (None, 5, 5, 64)          0         \n",
            "_________________________________________________________________\n",
            "conv2d_8 (Conv2D)            (None, 3, 3, 64)          36864     \n",
            "_________________________________________________________________\n",
            "batch_normalization_10 (Batc (None, 3, 3, 64)          256       \n",
            "_________________________________________________________________\n",
            "leaky_re_lu_10 (LeakyReLU)   (None, 3, 3, 64)          0         \n",
            "_________________________________________________________________\n",
            "flatten_2 (Flatten)          (None, 576)               0         \n",
            "_________________________________________________________________\n",
            "dense_4 (Dense)              (None, 64)                36864     \n",
            "_________________________________________________________________\n",
            "batch_normalization_11 (Batc (None, 64)                256       \n",
            "_________________________________________________________________\n",
            "leaky_re_lu_11 (LeakyReLU)   (None, 64)                0         \n",
            "_________________________________________________________________\n",
            "dense_5 (Dense)              (None, 6)                 390       \n",
            "=================================================================\n",
            "Total params: 93,734\n",
            "Trainable params: 93,286\n",
            "Non-trainable params: 448\n",
            "_________________________________________________________________\n",
            "None\n"
          ],
          "name": "stdout"
        }
      ]
    },
    {
      "cell_type": "code",
      "metadata": {
        "id": "OqaSktJw28jR"
      },
      "source": [
        "from tensorflow.keras.preprocessing.image import ImageDataGenerator\n",
        "\n",
        "datagen = ImageDataGenerator(\n",
        "  #featurewise_center=True,\n",
        "  #featurewise_std_normalization=True,\n",
        "  rotation_range=10,\n",
        "  shear_range=0.3,\n",
        "  width_shift_range=0.2,\n",
        "  height_shift_range=0.2,\n",
        "  fill_mode='constant',\n",
        "  cval=0.0,\n",
        "  horizontal_flip=False)"
      ],
      "execution_count": null,
      "outputs": []
    },
    {
      "cell_type": "code",
      "metadata": {
        "id": "R5Yzr6tvHR0V"
      },
      "source": [
        "model.compile(\n",
        "  optimizer='adam',\n",
        "  loss='categorical_crossentropy',\n",
        "  metrics=[\n",
        "    'accuracy'\n",
        "    #,tf.keras.metrics.categorical_accuracy\n",
        "  ]\n",
        ")"
      ],
      "execution_count": null,
      "outputs": []
    },
    {
      "cell_type": "code",
      "metadata": {
        "id": "eWTdbAtfHXss",
        "colab": {
          "base_uri": "https://localhost:8080/",
          "height": 85
        },
        "outputId": "08c1dc9b-3cfa-406c-a5af-2f7d061902ce"
      },
      "source": [
        "x_train = train_np[0]\n",
        "y_train = train_np[1]\n",
        "\n",
        "x_val = val_np[0]\n",
        "y_val = val_np[1]\n",
        "\n",
        "for i in [x_train, y_train, x_val, y_val]:\n",
        "  print(i.shape)"
      ],
      "execution_count": null,
      "outputs": [
        {
          "output_type": "stream",
          "text": [
            "(18000, 28, 28, 1)\n",
            "(18000, 6)\n",
            "(6000, 28, 28, 1)\n",
            "(6000, 6)\n"
          ],
          "name": "stdout"
        }
      ]
    },
    {
      "cell_type": "code",
      "metadata": {
        "id": "QhtQAVEbdX1Q",
        "colab": {
          "base_uri": "https://localhost:8080/",
          "height": 1000
        },
        "outputId": "7249339f-5555-4ba8-a570-71b052aaba9d"
      },
      "source": [
        "for i in datagen.flow(x_train, y_train, batch_size=100, shuffle=True):\n",
        "  batch = i[0]\n",
        "  labels = i[1]\n",
        "  print(batch.shape)\n",
        "  break\n",
        "\n",
        "fig=plt.figure(figsize=(28, 28))\n",
        "columns = 3\n",
        "rows = 3\n",
        "for i in range(1, columns*rows + 1):\n",
        "  img = batch[i].reshape(28,28).transpose()\n",
        "  label = labels[i]\n",
        "  ax = fig.add_subplot(rows, columns, i)\n",
        "  title_text = np.argmax(label)\n",
        "  title_text = by_merge_index_to_letter.get(\n",
        "      reverse_conversions.get(title_text.item(), -1),\n",
        "      \"Unlabelled \" + str(title_text.item()))\n",
        "  ax.title.set_text(title_text)\n",
        "  plt.imshow(img)\n",
        "plt.show()"
      ],
      "execution_count": null,
      "outputs": [
        {
          "output_type": "stream",
          "text": [
            "(100, 28, 28, 1)\n"
          ],
          "name": "stdout"
        },
        {
          "output_type": "display_data",
          "data": {
            "image/png": "[encoded data removed]",
            "text/plain": [
              "<Figure size 2016x2016 with 9 Axes>"
            ]
          },
          "metadata": {
            "tags": []
          }
        }
      ]
    },
    {
      "cell_type": "code",
      "metadata": {
        "id": "rcYsYfHPky1H",
        "colab": {
          "base_uri": "https://localhost:8080/",
          "height": 51
        },
        "outputId": "b7f42425-fc9f-49f6-a599-f2105cf68f2f"
      },
      "source": [
        "print(x_train.shape)\n",
        "print(x_train.shape[0]/100)"
      ],
      "execution_count": null,
      "outputs": [
        {
          "output_type": "stream",
          "text": [
            "(18000, 28, 28, 1)\n",
            "180.0\n"
          ],
          "name": "stdout"
        }
      ]
    },
    {
      "cell_type": "code",
      "metadata": {
        "id": "R_mVyhK8EZLY",
        "colab": {
          "base_uri": "https://localhost:8080/",
          "height": 697
        },
        "outputId": "d29dec6e-6a28-4997-b639-e9cbeea96d44"
      },
      "source": [
        "import math\n",
        "history = model.fit_generator(\n",
        "  datagen.flow(x_train, y_train, batch_size=100, shuffle=True),\n",
        "  steps_per_epoch=x_train.shape[0]/100,\n",
        "  epochs=20,\n",
        "  validation_data=val_np)"
      ],
      "execution_count": null,
      "outputs": [
        {
          "output_type": "stream",
          "text": [
            "Epoch 1/20\n",
            "180/180 [==============================] - 21s 119ms/step - loss: 0.4440 - accuracy: 0.8633 - val_loss: 2.4822 - val_accuracy: 0.3593\n",
            "Epoch 2/20\n",
            "180/180 [==============================] - 21s 116ms/step - loss: 0.1368 - accuracy: 0.9603 - val_loss: 2.0259 - val_accuracy: 0.4058\n",
            "Epoch 3/20\n",
            "180/180 [==============================] - 21s 115ms/step - loss: 0.0950 - accuracy: 0.9706 - val_loss: 0.4601 - val_accuracy: 0.8612\n",
            "Epoch 4/20\n",
            "180/180 [==============================] - 21s 118ms/step - loss: 0.0797 - accuracy: 0.9778 - val_loss: 0.0827 - val_accuracy: 0.9737\n",
            "Epoch 5/20\n",
            "180/180 [==============================] - 21s 116ms/step - loss: 0.0690 - accuracy: 0.9791 - val_loss: 0.1364 - val_accuracy: 0.9533\n",
            "Epoch 6/20\n",
            "180/180 [==============================] - 21s 119ms/step - loss: 0.0606 - accuracy: 0.9819 - val_loss: 0.0588 - val_accuracy: 0.9830\n",
            "Epoch 7/20\n",
            "180/180 [==============================] - 21s 117ms/step - loss: 0.0564 - accuracy: 0.9822 - val_loss: 0.0885 - val_accuracy: 0.9743\n",
            "Epoch 8/20\n",
            "180/180 [==============================] - 21s 115ms/step - loss: 0.0509 - accuracy: 0.9836 - val_loss: 0.0499 - val_accuracy: 0.9860\n",
            "Epoch 9/20\n",
            "180/180 [==============================] - 21s 117ms/step - loss: 0.0529 - accuracy: 0.9842 - val_loss: 0.0863 - val_accuracy: 0.9725\n",
            "Epoch 10/20\n",
            "180/180 [==============================] - 21s 116ms/step - loss: 0.0488 - accuracy: 0.9850 - val_loss: 0.0274 - val_accuracy: 0.9915\n",
            "Epoch 11/20\n",
            "180/180 [==============================] - 21s 116ms/step - loss: 0.0464 - accuracy: 0.9859 - val_loss: 0.0887 - val_accuracy: 0.9740\n",
            "Epoch 12/20\n",
            "180/180 [==============================] - 21s 116ms/step - loss: 0.0459 - accuracy: 0.9865 - val_loss: 0.0374 - val_accuracy: 0.9887\n",
            "Epoch 13/20\n",
            "180/180 [==============================] - 21s 115ms/step - loss: 0.0403 - accuracy: 0.9868 - val_loss: 0.0413 - val_accuracy: 0.9882\n",
            "Epoch 14/20\n",
            "180/180 [==============================] - 21s 116ms/step - loss: 0.0407 - accuracy: 0.9871 - val_loss: 0.0622 - val_accuracy: 0.9847\n",
            "Epoch 15/20\n",
            "180/180 [==============================] - 21s 117ms/step - loss: 0.0349 - accuracy: 0.9893 - val_loss: 0.0416 - val_accuracy: 0.9878\n",
            "Epoch 16/20\n",
            "180/180 [==============================] - 21s 116ms/step - loss: 0.0356 - accuracy: 0.9898 - val_loss: 0.0359 - val_accuracy: 0.9898\n",
            "Epoch 17/20\n",
            "180/180 [==============================] - 21s 115ms/step - loss: 0.0384 - accuracy: 0.9879 - val_loss: 0.0494 - val_accuracy: 0.9857\n",
            "Epoch 18/20\n",
            "180/180 [==============================] - 21s 116ms/step - loss: 0.0311 - accuracy: 0.9902 - val_loss: 0.0315 - val_accuracy: 0.9913\n",
            "Epoch 19/20\n",
            "180/180 [==============================] - 21s 119ms/step - loss: 0.0330 - accuracy: 0.9896 - val_loss: 0.0399 - val_accuracy: 0.9892\n",
            "Epoch 20/20\n",
            "180/180 [==============================] - 21s 115ms/step - loss: 0.0357 - accuracy: 0.9892 - val_loss: 0.0526 - val_accuracy: 0.9862\n"
          ],
          "name": "stdout"
        }
      ]
    },
    {
      "cell_type": "code",
      "metadata": {
        "id": "xjqUhfU_6abj",
        "colab": {
          "base_uri": "https://localhost:8080/",
          "height": 312
        },
        "outputId": "81791f6c-f783-4c56-cf6c-4b9c85c230e5"
      },
      "source": [
        "history_dict = history.history\n",
        "print(history_dict.keys())\n",
        "\n",
        "epochs = range(1, len(history_dict['accuracy']) + 1)\n",
        "plt.plot(epochs, history_dict['accuracy'], 'bo', label='Accuracy')\n",
        "plt.plot(epochs, history_dict['val_accuracy'], 'b', label='Validation Accuracy')\n",
        "plt.title('Accuracy')\n",
        "plt.xlabel('Epochs')\n",
        "plt.ylabel('%')\n",
        "plt.legend()\n",
        "plt.show()"
      ],
      "execution_count": null,
      "outputs": [
        {
          "output_type": "stream",
          "text": [
            "dict_keys(['loss', 'accuracy', 'val_loss', 'val_accuracy'])\n"
          ],
          "name": "stdout"
        },
        {
          "output_type": "display_data",
          "data": {
            "image/png": "[encoded data removed]",
            "text/plain": [
              "<Figure size 432x288 with 1 Axes>"
            ]
          },
          "metadata": {
            "tags": []
          }
        }
      ]
    },
    {
      "cell_type": "markdown",
      "metadata": {
        "id": "9D5vrZHf4t-D"
      },
      "source": [
        "Evaluate the model on the test data."
      ]
    },
    {
      "cell_type": "code",
      "metadata": {
        "id": "oaGiUdbM4rDb"
      },
      "source": [
        "# test_loss, test_accuracy = model.evaluate(\n",
        "#   x=x_val,\n",
        "#   y=y_val,\n",
        "#   #y=tf.keras.utils.to_categorical(y_val),\n",
        "#   batch_size=64)\n",
        "# print(test_accuracy)"
      ],
      "execution_count": null,
      "outputs": []
    },
    {
      "cell_type": "code",
      "metadata": {
        "id": "Wq4hq0CRtaCM",
        "colab": {
          "base_uri": "https://localhost:8080/",
          "height": 34
        },
        "outputId": "4bcb975d-f2f0-4ee0-fb05-655ff473aafc"
      },
      "source": [
        "#print(x_test.shape)\n",
        "y_pred = model.predict(x_val)\n",
        "print(y_pred.shape)\n"
      ],
      "execution_count": null,
      "outputs": [
        {
          "output_type": "stream",
          "text": [
            "(6000, 6)\n"
          ],
          "name": "stdout"
        }
      ]
    },
    {
      "cell_type": "code",
      "metadata": {
        "id": "IXnK5DWJd2Lk",
        "colab": {
          "base_uri": "https://localhost:8080/",
          "height": 51
        },
        "outputId": "674d0200-95bc-49b6-f281-f51d9634a424"
      },
      "source": [
        "print(y_pred[0])"
      ],
      "execution_count": null,
      "outputs": [
        {
          "output_type": "stream",
          "text": [
            "[4.2279721e-06 9.9994934e-01 4.4455071e-05 1.3827239e-06 9.0845404e-08\n",
            " 5.3794025e-07]\n"
          ],
          "name": "stdout"
        }
      ]
    },
    {
      "cell_type": "code",
      "metadata": {
        "id": "0r0qq3MRdTQD",
        "colab": {
          "base_uri": "https://localhost:8080/",
          "height": 275
        },
        "outputId": "6a44fc72-1423-469e-dbcd-9a1a462a0cd3"
      },
      "source": [
        "from sklearn.metrics import classification_report, confusion_matrix\n",
        "\n",
        "matrix = confusion_matrix(y_val.argmax(axis=1), y_pred.argmax(axis=1))\n",
        "plt.matshow(matrix)\n",
        "plt.show()"
      ],
      "execution_count": null,
      "outputs": [
        {
          "output_type": "display_data",
          "data": {
            "image/png": "[encoded data removed]",
            "text/plain": [
              "<Figure size 288x288 with 1 Axes>"
            ]
          },
          "metadata": {
            "tags": []
          }
        }
      ]
    },
    {
      "cell_type": "code",
      "metadata": {
        "id": "tlHGyDv09YEH"
      },
      "source": [
        "save_path = 'emnist_subset_ABCXN.h5'\n",
        "model.save(save_path)"
      ],
      "execution_count": null,
      "outputs": []
    },
    {
      "cell_type": "code",
      "metadata": {
        "id": "j8ciJteFAPuG"
      },
      "source": [
        "from google.colab import files\n",
        "files.download(save_path)"
      ],
      "execution_count": null,
      "outputs": []
    },
    {
      "cell_type": "code",
      "metadata": {
        "id": "fHebGbiXlqjX",
        "colab": {
          "base_uri": "https://localhost:8080/",
          "height": 270
        },
        "outputId": "344fa689-dacb-4e90-8252-178e4a9b8b01"
      },
      "source": [
        "import seaborn as sn\n",
        "import pandas as pd\n",
        "import matplotlib.pyplot as plt\n",
        "     \n",
        "df_cm = pd.DataFrame(\n",
        "  matrix,\n",
        "  range(num_classes),\n",
        "  range(num_classes))\n",
        "sn.heatmap(df_cm, annot=True, annot_kws={\"size\": 8})# font size\n",
        "\n",
        "plt.show()"
      ],
      "execution_count": null,
      "outputs": [
        {
          "output_type": "display_data",
          "data": {
            "image/png": "[encoded data removed]",
            "text/plain": [
              "<Figure size 432x288 with 2 Axes>"
            ]
          },
          "metadata": {
            "tags": []
          }
        }
      ]
    },
    {
      "cell_type": "code",
      "metadata": {
        "id": "N-BVRyRTiuge",
        "colab": {
          "base_uri": "https://localhost:8080/",
          "height": 119
        },
        "outputId": "975c5061-26cd-41fd-d519-09f0b815f77f"
      },
      "source": [
        "history = model.fit_generator(\n",
        "  datagen.flow(x_train, y_train, batch_size=100, shuffle=True),\n",
        "  steps_per_epoch=x_train.shape[0]/100,\n",
        "  epochs=3,\n",
        "  validation_data=val_np)"
      ],
      "execution_count": null,
      "outputs": [
        {
          "output_type": "stream",
          "text": [
            "Epoch 1/3\n",
            "180/180 [==============================] - 21s 118ms/step - loss: 0.0290 - accuracy: 0.9912 - val_loss: 0.0153 - val_accuracy: 0.9960\n",
            "Epoch 2/3\n",
            "180/180 [==============================] - 21s 115ms/step - loss: 0.0302 - accuracy: 0.9901 - val_loss: 0.0346 - val_accuracy: 0.9897\n",
            "Epoch 3/3\n",
            "180/180 [==============================] - 21s 116ms/step - loss: 0.0312 - accuracy: 0.9899 - val_loss: 0.0198 - val_accuracy: 0.9955\n"
          ],
          "name": "stdout"
        }
      ]
    }
  ]
}